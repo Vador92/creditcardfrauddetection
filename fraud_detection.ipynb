{
 "cells": [
  {
   "attachments": {},
   "cell_type": "markdown",
   "metadata": {},
   "source": [
    "# Venmo/Credit Card Fraud Detection"
   ]
  },
  {
   "cell_type": "code",
   "execution_count": 1,
   "metadata": {},
   "outputs": [
    {
     "name": "stdout",
     "output_type": "stream",
     "text": [
      "   distance_from_home  distance_from_last_transaction  \\\n",
      "0           57.877857                        0.311140   \n",
      "1           10.829943                        0.175592   \n",
      "2            5.091079                        0.805153   \n",
      "3            2.247564                        5.600044   \n",
      "4           44.190936                        0.566486   \n",
      "\n",
      "   ratio_to_median_purchase_price  repeat_retailer  used_chip  \\\n",
      "0                        1.945940              1.0        1.0   \n",
      "1                        1.294219              1.0        0.0   \n",
      "2                        0.427715              1.0        0.0   \n",
      "3                        0.362663              1.0        1.0   \n",
      "4                        2.222767              1.0        1.0   \n",
      "\n",
      "   used_pin_number  online_order  fraud  \n",
      "0              0.0           0.0    0.0  \n",
      "1              0.0           0.0    0.0  \n",
      "2              0.0           1.0    0.0  \n",
      "3              0.0           1.0    0.0  \n",
      "4              0.0           1.0    0.0  \n"
     ]
    }
   ],
   "source": [
    "import numpy as np\n",
    "import pandas as pd\n",
    "import matplotlib.pyplot as plt\n",
    "import seaborn as sns\n",
    "import plotly.express as px\n",
    "from sklearn.model_selection import cross_val_score\n",
    "from sklearn.preprocessing import StandardScaler\n",
    "from sklearn import metrics\n",
    "from collections import Counter\n",
    "from imblearn.over_sampling import RandomOverSampler\n",
    "from collections import Counter\n",
    "\n",
    "file_path = 'venmo_transdata.csv'\n",
    "df = pd.read_csv(file_path)\n",
    "\n",
    "# Display the first few rows to verify the data has been loaded correctly\n",
    "print(df.head())"
   ]
  },
  {
   "cell_type": "code",
   "execution_count": 2,
   "metadata": {},
   "outputs": [
    {
     "data": {
      "text/html": [
       "<div>\n",
       "<style scoped>\n",
       "    .dataframe tbody tr th:only-of-type {\n",
       "        vertical-align: middle;\n",
       "    }\n",
       "\n",
       "    .dataframe tbody tr th {\n",
       "        vertical-align: top;\n",
       "    }\n",
       "\n",
       "    .dataframe thead th {\n",
       "        text-align: right;\n",
       "    }\n",
       "</style>\n",
       "<table border=\"1\" class=\"dataframe\">\n",
       "  <thead>\n",
       "    <tr style=\"text-align: right;\">\n",
       "      <th></th>\n",
       "      <th>distance_from_home</th>\n",
       "      <th>distance_from_last_transaction</th>\n",
       "      <th>ratio_to_median_purchase_price</th>\n",
       "      <th>repeat_retailer</th>\n",
       "      <th>used_chip</th>\n",
       "      <th>used_pin_number</th>\n",
       "      <th>online_order</th>\n",
       "      <th>fraud</th>\n",
       "    </tr>\n",
       "  </thead>\n",
       "  <tbody>\n",
       "    <tr>\n",
       "      <th>count</th>\n",
       "      <td>1000000.000000</td>\n",
       "      <td>1000000.000000</td>\n",
       "      <td>1000000.000000</td>\n",
       "      <td>1000000.000000</td>\n",
       "      <td>1000000.000000</td>\n",
       "      <td>1000000.000000</td>\n",
       "      <td>1000000.000000</td>\n",
       "      <td>1000000.000000</td>\n",
       "    </tr>\n",
       "    <tr>\n",
       "      <th>mean</th>\n",
       "      <td>26.628792</td>\n",
       "      <td>5.036519</td>\n",
       "      <td>1.824182</td>\n",
       "      <td>0.881536</td>\n",
       "      <td>0.350399</td>\n",
       "      <td>0.100608</td>\n",
       "      <td>0.650552</td>\n",
       "      <td>0.087403</td>\n",
       "    </tr>\n",
       "    <tr>\n",
       "      <th>std</th>\n",
       "      <td>65.390784</td>\n",
       "      <td>25.843093</td>\n",
       "      <td>2.799589</td>\n",
       "      <td>0.323157</td>\n",
       "      <td>0.477095</td>\n",
       "      <td>0.300809</td>\n",
       "      <td>0.476796</td>\n",
       "      <td>0.282425</td>\n",
       "    </tr>\n",
       "    <tr>\n",
       "      <th>min</th>\n",
       "      <td>0.004874</td>\n",
       "      <td>0.000118</td>\n",
       "      <td>0.004399</td>\n",
       "      <td>0.000000</td>\n",
       "      <td>0.000000</td>\n",
       "      <td>0.000000</td>\n",
       "      <td>0.000000</td>\n",
       "      <td>0.000000</td>\n",
       "    </tr>\n",
       "    <tr>\n",
       "      <th>25%</th>\n",
       "      <td>3.878008</td>\n",
       "      <td>0.296671</td>\n",
       "      <td>0.475673</td>\n",
       "      <td>1.000000</td>\n",
       "      <td>0.000000</td>\n",
       "      <td>0.000000</td>\n",
       "      <td>0.000000</td>\n",
       "      <td>0.000000</td>\n",
       "    </tr>\n",
       "    <tr>\n",
       "      <th>50%</th>\n",
       "      <td>9.967760</td>\n",
       "      <td>0.998650</td>\n",
       "      <td>0.997717</td>\n",
       "      <td>1.000000</td>\n",
       "      <td>0.000000</td>\n",
       "      <td>0.000000</td>\n",
       "      <td>1.000000</td>\n",
       "      <td>0.000000</td>\n",
       "    </tr>\n",
       "    <tr>\n",
       "      <th>75%</th>\n",
       "      <td>25.743985</td>\n",
       "      <td>3.355748</td>\n",
       "      <td>2.096370</td>\n",
       "      <td>1.000000</td>\n",
       "      <td>1.000000</td>\n",
       "      <td>0.000000</td>\n",
       "      <td>1.000000</td>\n",
       "      <td>0.000000</td>\n",
       "    </tr>\n",
       "    <tr>\n",
       "      <th>max</th>\n",
       "      <td>10632.723672</td>\n",
       "      <td>11851.104565</td>\n",
       "      <td>267.802942</td>\n",
       "      <td>1.000000</td>\n",
       "      <td>1.000000</td>\n",
       "      <td>1.000000</td>\n",
       "      <td>1.000000</td>\n",
       "      <td>1.000000</td>\n",
       "    </tr>\n",
       "  </tbody>\n",
       "</table>\n",
       "</div>"
      ],
      "text/plain": [
       "       distance_from_home  distance_from_last_transaction  \\\n",
       "count      1000000.000000                  1000000.000000   \n",
       "mean            26.628792                        5.036519   \n",
       "std             65.390784                       25.843093   \n",
       "min              0.004874                        0.000118   \n",
       "25%              3.878008                        0.296671   \n",
       "50%              9.967760                        0.998650   \n",
       "75%             25.743985                        3.355748   \n",
       "max          10632.723672                    11851.104565   \n",
       "\n",
       "       ratio_to_median_purchase_price  repeat_retailer       used_chip  \\\n",
       "count                  1000000.000000   1000000.000000  1000000.000000   \n",
       "mean                         1.824182         0.881536        0.350399   \n",
       "std                          2.799589         0.323157        0.477095   \n",
       "min                          0.004399         0.000000        0.000000   \n",
       "25%                          0.475673         1.000000        0.000000   \n",
       "50%                          0.997717         1.000000        0.000000   \n",
       "75%                          2.096370         1.000000        1.000000   \n",
       "max                        267.802942         1.000000        1.000000   \n",
       "\n",
       "       used_pin_number    online_order           fraud  \n",
       "count   1000000.000000  1000000.000000  1000000.000000  \n",
       "mean          0.100608        0.650552        0.087403  \n",
       "std           0.300809        0.476796        0.282425  \n",
       "min           0.000000        0.000000        0.000000  \n",
       "25%           0.000000        0.000000        0.000000  \n",
       "50%           0.000000        1.000000        0.000000  \n",
       "75%           0.000000        1.000000        0.000000  \n",
       "max           1.000000        1.000000        1.000000  "
      ]
     },
     "execution_count": 2,
     "metadata": {},
     "output_type": "execute_result"
    }
   ],
   "source": [
    "#getting simple statistics about the data we collected\n",
    "df.describe()"
   ]
  },
  {
   "cell_type": "code",
   "execution_count": 3,
   "metadata": {},
   "outputs": [
    {
     "name": "stdout",
     "output_type": "stream",
     "text": [
      "<class 'pandas.core.frame.DataFrame'>\n",
      "RangeIndex: 1000000 entries, 0 to 999999\n",
      "Data columns (total 8 columns):\n",
      " #   Column                          Non-Null Count    Dtype  \n",
      "---  ------                          --------------    -----  \n",
      " 0   distance_from_home              1000000 non-null  float64\n",
      " 1   distance_from_last_transaction  1000000 non-null  float64\n",
      " 2   ratio_to_median_purchase_price  1000000 non-null  float64\n",
      " 3   repeat_retailer                 1000000 non-null  float64\n",
      " 4   used_chip                       1000000 non-null  float64\n",
      " 5   used_pin_number                 1000000 non-null  float64\n",
      " 6   online_order                    1000000 non-null  float64\n",
      " 7   fraud                           1000000 non-null  float64\n",
      "dtypes: float64(8)\n",
      "memory usage: 61.0 MB\n"
     ]
    }
   ],
   "source": [
    "df.info()"
   ]
  },
  {
   "cell_type": "code",
   "execution_count": 4,
   "metadata": {},
   "outputs": [
    {
     "data": {
      "text/plain": [
       "np.int64(0)"
      ]
     },
     "execution_count": 4,
     "metadata": {},
     "output_type": "execute_result"
    }
   ],
   "source": [
    "# Before checking for the percentage we need to make sure there are no null values within the dataset\n",
    "df.isnull().sum().max()"
   ]
  },
  {
   "cell_type": "code",
   "execution_count": 5,
   "metadata": {},
   "outputs": [
    {
     "name": "stdout",
     "output_type": "stream",
     "text": [
      "Not Frauds: 91.26 % of the dataset\n",
      "Frauds: 8.74 % of the dataset\n"
     ]
    },
    {
     "data": {
      "image/png": "[encoded data removed]",
      "text/plain": [
       "<Figure size 500x500 with 1 Axes>"
      ]
     },
     "metadata": {},
     "output_type": "display_data"
    }
   ],
   "source": [
    "# here we can compare and visualize the difference in percentage of the split between frauds and valid transactions\n",
    "# Calculate percentages assuming 'fraud' column exists\n",
    "not_frauds_percent = round(df['fraud'].value_counts()[0] / len(df) * 100, 2)\n",
    "frauds_percent = round(df['fraud'].value_counts()[1] / len(df) * 100, 2)\n",
    "\n",
    "# Print percentages\n",
    "print('Not Frauds:', not_frauds_percent, '% of the dataset')\n",
    "print('Frauds:', frauds_percent, '% of the dataset')\n",
    "\n",
    "fraud_counts = df['fraud'].value_counts()\n",
    "\n",
    "# Map numeric labels to descriptive labels\n",
    "fraud_counts.index = fraud_counts.index.map({0: 'Not Fraud', 1: 'Fraud'})\n",
    "\n",
    "# Plotting a pie chart with elegant shades of blue\n",
    "plt.figure(figsize=(5, 5))\n",
    "plt.pie(fraud_counts, labels=fraud_counts.index, autopct='%1.1f%%', startangle=140, colors=sns.color_palette('Greens'))\n",
    "plt.title('Fraud vs Not Fraud Transactions')\n",
    "plt.axis('equal')  # Equal aspect ratio ensures that pie is drawn as a circle.\n",
    "plt.show()"
   ]
  },
  {
   "cell_type": "code",
   "execution_count": 6,
   "metadata": {},
   "outputs": [
    {
     "name": "stdout",
     "output_type": "stream",
     "text": [
      "Count of data before removing duplicates: 1000000\n",
      "Duplicates removed successfully.\n",
      "Count of data after removing duplicates: 1000000\n",
      "In this case there is none\n"
     ]
    }
   ],
   "source": [
    "# Next we can drop duplicate values in case they exist, so we do not have skewed results\n",
    "\n",
    "# mention the len of the df before and after\n",
    "print(\"Count of data before removing duplicates:\", len(df))\n",
    "df = df.copy()\n",
    "\n",
    "# Remove duplicates inplace\n",
    "df.drop_duplicates(inplace=True)\n",
    "print(\"Duplicates removed successfully.\")\n",
    "\n",
    "# Print the count of data after removing duplicates\n",
    "print(\"Count of data after removing duplicates:\", len(df))\n",
    "print(\"In this case there is none\")"
   ]
  },
  {
   "cell_type": "code",
   "execution_count": 10,
   "metadata": {},
   "outputs": [
    {
     "data": {
      "image/png": "[encoded data removed]",
      "text/plain": [
       "<Figure size 1200x600 with 1 Axes>"
      ]
     },
     "metadata": {},
     "output_type": "display_data"
    }
   ],
   "source": [
    "df = df.copy()\n",
    "numerical_columns = df.select_dtypes(include=['float64', 'int64']).columns\n",
    "\n",
    "sns.set(style=\"whitegrid\", palette=\"Blues_r\")\n",
    "plt.figure(figsize=(12, 6))\n",
    "\n",
    "sns.boxplot(data=df[numerical_columns], orient=\"h\")\n",
    "plt.title('Box Plot of Numerical Columns')\n",
    "plt.xlabel('Value')\n",
    "plt.ylabel('Columns')\n",
    "plt.tight_layout()\n",
    "\n",
    "# Show plot\n",
    "plt.show()\n"
   ]
  },
  {
   "cell_type": "code",
   "execution_count": 24,
   "metadata": {},
   "outputs": [
    {
     "name": "stdout",
     "output_type": "stream",
     "text": [
      "Accuracy: 0.913\n"
     ]
    }
   ],
   "source": [
    "from sklearn.naive_bayes import MultinomialNB\n",
    "from sklearn.metrics import accuracy_score\n",
    "from sklearn.model_selection import train_test_split\n",
    "\n",
    "\n",
    "subset_set = df.sample(n=50000, random_state=36)\n",
    "\n",
    "subset = subset_set.sample(n=25000, random_state=36)\n",
    "\n",
    "# Specify predictors and outcome variable\n",
    "predictors = ['distance_from_home', 'distance_from_last_transaction', 'online_order', 'ratio_to_median_purchase_price', 'repeat_retailer']\n",
    "outcome = 'fraud'\n",
    "\n",
    "# Extract predictors and outcome variable from the dataset\n",
    "X = subset[predictors]\n",
    "y = subset[outcome]\n",
    "\n",
    "X_train, X_test, y_train, y_test = train_test_split(X, y, test_size=0.4, random_state=42)\n",
    "\n",
    "\n",
    "model = MultinomialNB()\n",
    "model.fit(X_train, y_train)\n",
    "\n",
    "\n",
    "y_pred = model.predict(X_test)\n",
    "\n",
    "\n",
    "accuracy_nb = accuracy_score(y_test, y_pred)\n",
    "print(\"Accuracy: {:.3f}\".format(accuracy_nb))"
   ]
  },
  {
   "cell_type": "code",
   "execution_count": 25,
   "metadata": {},
   "outputs": [
    {
     "name": "stdout",
     "output_type": "stream",
     "text": [
      "Predictions for new input data:\n",
      "Input 1: Not Fraud\n",
      "Input 2: Not Fraud\n",
      "Input 3: Not Fraud\n"
     ]
    }
   ],
   "source": [
    "new_data = {\n",
    "    'distance_from_home': [10.5, 15.2, 8.0],\n",
    "    'distance_from_last_transaction': [20.1, 25.0, 18.5],\n",
    "    'online_order': [1, 0, 1],\n",
    "    'ratio_to_median_purchase_price': [0.9, 1.2, 0.8],\n",
    "    'repeat_retailer': [1, 0, 1]\n",
    "}\n",
    "\n",
    "# Create a DataFrame from the new input data\n",
    "new_df = pd.DataFrame(new_data)\n",
    "\n",
    "# Predict using the trained model\n",
    "new_predictions = model.predict(new_df)\n",
    "\n",
    "# Print the predictions\n",
    "print(\"Predictions for new input data:\")\n",
    "for i, pred in enumerate(new_predictions):\n",
    "    print(f\"Input {i+1}: {'Fraud' if pred == 1 else 'Not Fraud'}\")"
   ]
  }
 ],
 "metadata": {
  "kernelspec": {
   "display_name": "venv",
   "language": "python",
   "name": "python3"
  },
  "language_info": {
   "codemirror_mode": {
    "name": "ipython",
    "version": 3
   },
   "file_extension": ".py",
   "mimetype": "text/x-python",
   "name": "python",
   "nbconvert_exporter": "python",
   "pygments_lexer": "ipython3",
   "version": "3.11.5"
  },
  "orig_nbformat": 4,
  "vscode": {
   "interpreter": {
    "hash": "47928d4d932d8da288f525a1efb8fa22f4ee2b2473691b041e8e4752ac829eed"
   }
  }
 },
 "nbformat": 4,
 "nbformat_minor": 2
}
